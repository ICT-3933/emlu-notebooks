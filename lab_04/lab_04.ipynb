{
 "cells": [
  {
   "cell_type": "markdown",
   "metadata": {},
   "source": [
    "# Laboratorio 4\n",
    "\n",
    "### Estimación de Modelos Bid y Choice de Localización\n",
    "\n",
    "Ayudante: Janus Leonhardt | jaleonhardt@uc.cl \n",
    "\n",
    "Profesor: Ricardo Hurtubia | rhurtubia@uc.cl\n",
    "\n",
    "##### Objetivos del Laboratorio\n",
    "\n",
    "> 1. Continuar el flujo de los laboratorios anteriores (L1, L2, L3) para estimar un modelo de localización (bid/choice) usando los datos consolidados en celdas y agentes para un periodo de estimación.\n",
    "\n",
    "> 2. Definir el periodo de estimación y filtrar tanto el GeoDataFrame de celdas (con variables representativas del año base) como los agentes (construcciones realizadas en ese lapso).\n",
    "\n",
    "> 3. Explicar la formulación logit multinomial para la elección de localización (*choice model*) y el enfoque de subasta (*bid model*)\n",
    "\n",
    "> 4. Implementar en Python, con `xlogit` (para el modelo choice) y `biogeme` (para el modelo bid), la estimación de dichos modelos y analizar los resultados."
   ]
  },
  {
   "cell_type": "markdown",
   "metadata": {},
   "source": [
    "---"
   ]
  },
  {
   "cell_type": "markdown",
   "metadata": {},
   "source": [
    "### 1. Repaso de Laboratorio 3\n",
    "\n",
    "En el **Laboratorio 3**, aprendimos a calcular accesibilidades con OSRM mediante un modelo gravitacional, agregando columnas de accesibilidad en nuestras celdas. En este laboratorio, estimaremos un modelo de localización, tanto desde el enfoque **bid** (subasta) como **choice** (elección discreta), asumiendo que tenemos datos de los agentes localizados en un periodo de estimación (2010–2018) y variables de las celdas en ese año base."
   ]
  },
  {
   "cell_type": "markdown",
   "metadata": {},
   "source": [
    "---"
   ]
  },
  {
   "cell_type": "markdown",
   "metadata": {},
   "source": [
    "### 2. Instalación y Configuración del Entorno de Trabajo\n",
    "\n",
    "#### Requisitos Previos\n",
    "\n",
    "- Python 3.7 o superior\n",
    "\n",
    "- Jupyter Notebook\n",
    "\n",
    "- **Librerías de Python**:\n",
    "\n",
    "  - pandas  \n",
    "  - geopandas  \n",
    "  - shapely  \n",
    "  - h3  \n",
    "  - matplotlib  \n",
    "  - folium  \n",
    "  - mapclassify  \n",
    "  - seaborn\n",
    "  - requests\n",
    "  - **xlogit**\n",
    "  - **biogeme**\n",
    "\n",
    "#### Instalación de Librerías\n",
    "\n",
    "Recordemos que las librerías deben haber quedado correctamente instaladas en nuestro entorno virtual (`.conda` o `.venv`) creado en el Laboratorio 1. En caso contrario, se debe ejecutar la siguiente línea de código.\n",
    "\n",
    "`!pip install pandas geopandas shapely h3 matplotlib folium mapclassify seaborn requests xlogit biogeme`"
   ]
  },
  {
   "cell_type": "code",
   "execution_count": 1,
   "metadata": {},
   "outputs": [
    {
     "name": "stdout",
     "output_type": "stream",
     "text": [
      "Requirement already satisfied: xlogit in /Users/janusleonhardt/Documents/GitHub/emlu-notebooks/.venv/lib/python3.9/site-packages (0.2.7)\n",
      "Requirement already satisfied: biogeme in /Users/janusleonhardt/Documents/GitHub/emlu-notebooks/.venv/lib/python3.9/site-packages (3.2.13)\n",
      "Requirement already satisfied: numpy>=1.13.1 in /Users/janusleonhardt/Documents/GitHub/emlu-notebooks/.venv/lib/python3.9/site-packages (from xlogit) (1.26.4)\n",
      "Requirement already satisfied: scipy>=1.0.0 in /Users/janusleonhardt/Documents/GitHub/emlu-notebooks/.venv/lib/python3.9/site-packages (from xlogit) (1.13.1)\n",
      "Requirement already satisfied: pandas>=1.3.5 in /Users/janusleonhardt/Documents/GitHub/emlu-notebooks/.venv/lib/python3.9/site-packages (from biogeme) (2.2.3)\n",
      "Requirement already satisfied: tqdm>=4.64.1 in /Users/janusleonhardt/Documents/GitHub/emlu-notebooks/.venv/lib/python3.9/site-packages (from biogeme) (4.67.1)\n",
      "Requirement already satisfied: tomlkit>=0.11.5 in /Users/janusleonhardt/Documents/GitHub/emlu-notebooks/.venv/lib/python3.9/site-packages (from biogeme) (0.13.2)\n",
      "Requirement already satisfied: cythonbiogeme==1.0.2 in /Users/janusleonhardt/Documents/GitHub/emlu-notebooks/.venv/lib/python3.9/site-packages (from biogeme) (1.0.2)\n",
      "Requirement already satisfied: biogeme-optimization==0.0.5 in /Users/janusleonhardt/Documents/GitHub/emlu-notebooks/.venv/lib/python3.9/site-packages (from biogeme) (0.0.5)\n",
      "Requirement already satisfied: cython>=0.29.16 in /Users/janusleonhardt/Documents/GitHub/emlu-notebooks/.venv/lib/python3.9/site-packages (from cythonbiogeme==1.0.2->biogeme) (3.0.11)\n",
      "Requirement already satisfied: python-dateutil>=2.8.2 in /Users/janusleonhardt/Documents/GitHub/emlu-notebooks/.venv/lib/python3.9/site-packages (from pandas>=1.3.5->biogeme) (2.9.0.post0)\n",
      "Requirement already satisfied: pytz>=2020.1 in /Users/janusleonhardt/Documents/GitHub/emlu-notebooks/.venv/lib/python3.9/site-packages (from pandas>=1.3.5->biogeme) (2024.2)\n",
      "Requirement already satisfied: tzdata>=2022.7 in /Users/janusleonhardt/Documents/GitHub/emlu-notebooks/.venv/lib/python3.9/site-packages (from pandas>=1.3.5->biogeme) (2024.2)\n",
      "Requirement already satisfied: six>=1.5 in /Users/janusleonhardt/Documents/GitHub/emlu-notebooks/.venv/lib/python3.9/site-packages (from python-dateutil>=2.8.2->pandas>=1.3.5->biogeme) (1.17.0)\n"
     ]
    }
   ],
   "source": [
    "#instalar las librerías faltantes\n",
    "!pip install xlogit biogeme"
   ]
  },
  {
   "cell_type": "markdown",
   "metadata": {},
   "source": [
    "### 3. Carga de Datos Previos\n",
    "\n",
    "En este laboratorio, partiremos desde los archivos generados en los Laboratorios 1 y 3, pero adaptados a la estructura que necesitamos para implementar correctamente los modelos de localización respectivos. Así, los archivos que necesitaremos serán los siguientes.\n",
    "\n",
    "1. **`agentes.geojson`** (basado en el **Laboratorio 1**): Contiene información de los agentes (líneas de construcción del Servicio de Impuestos Internos), con los siguientes atributos.\n",
    "\n",
    "   - `año`: el año de construcción.\n",
    "\n",
    "   - `destino`: el uso de suelo principal de la línea de construcción (habitacional, comercial, etc.).\n",
    "\n",
    "   - `h3`: la celda *h3* en que se ubica.\n",
    "\n",
    "   - otras variables catastrales (`superficie_construida`, `calidad`, etc.).\n",
    "\n",
    "2. **`celdas_estimacion.geojson`** (basado en el **Laboratorio 3**): Contiene información agregada por celda *h3* para el año de inicio del período de estimación (por ejemplo, 2010–2018), incluyendo las características del entorno construido, las accesibilidades gravitacionales del Laboratorio 3 y los datos externos del Laboratorio 2. \n",
    "\n",
    "La idea es que estos datos sean **coherentes** con el **año de inicio** del período de estimación. Para el ejemplo, usaremos 2010–2018 como ventana temporal en la que se construyeron/agregaron agentes. Es decir, veremos cuáles construcciones nuevas aparecieron (en `agentes.geojson`) entre 2010 y 2018, y estudiaremos cómo eligieron su localización con base en las características de las celdas en 2010 (contenidas en `celdas_estimacion.geojson`)."
   ]
  },
  {
   "cell_type": "code",
   "execution_count": 2,
   "metadata": {},
   "outputs": [
    {
     "name": "stdout",
     "output_type": "stream",
     "text": [
      "Total Agentes Habitacionales: 12759\n"
     ]
    }
   ],
   "source": [
    "import geopandas as gpd\n",
    "\n",
    "# cargar celdas de estimación y crear id\n",
    "celdas_estimacion = gpd.read_file(\"celdas_estimacion.geojson\")  \n",
    "celdas_estimacion['id_celda'] = celdas_estimacion.index\n",
    "\n",
    "# cargar agentes y filtrar para el periodo de estimación (2010 a 2018)\n",
    "agentes_estimacion = gpd.read_file(\"../lab_01/agentes.geojson\")\n",
    "agentes_estimacion = agentes_estimacion[(agentes_estimacion['año'] >= 2010) & (agentes_estimacion['año'] <= 2018)]\n",
    "\n",
    "# (opcional) quedarnos con las observaciones que están en las celdas de estimación\n",
    "agentes_estimacion = agentes_estimacion[agentes_estimacion['h3'].isin(celdas_estimacion['h3'])]\n",
    "\n",
    "# (opcional) quedarnos sólo con uso habitacional, por ejemplo:\n",
    "agentes_estimacion = agentes_estimacion[agentes_estimacion['destino']=='habitacional']\n",
    "agentes_estimacion['id_agente'] = agentes_estimacion.reset_index().index\n",
    "\n",
    "# (opcional) definir la categoría del hogar (1,2,3) según 'calidad'\n",
    "agentes_estimacion['cat_hogar'] = agentes_estimacion.apply(lambda row: 1 if row['calidad'] <= 2 else (2 if row['calidad'] <= 3 else 3), axis=1)\n",
    "\n",
    "# ver cuántos agentes habitacionales hay en el periodo de estimación\n",
    "print(f\"Total Agentes Habitacionales: {len(agentes_estimacion)}\")"
   ]
  },
  {
   "cell_type": "markdown",
   "metadata": {},
   "source": [
    "---"
   ]
  },
  {
   "cell_type": "markdown",
   "metadata": {},
   "source": [
    "### 4. Modelo Choice (con *`xlogit`*)\n",
    "\n",
    "El modelo Choice asume que cada agente $n$ elige una celda $i$ para localizarse, entre un coniunto de celdas. Para ello, definimos la utilidad de la celda $i$ para el agente $n$ de la siguiente manera.\n",
    "\n",
    "$U_{n,i} = \\beta_1 \\cdot X_{n,i,1} + \\beta_2 \\cdot X_{n,i,2} + \\dots + \\epsilon_{n,i}$\n",
    "\n",
    "En este caso, $\\epsilon_{n,i}$ sigue una distribución Gumbel, y la probabilidad de que el agente *n* escoja la celda $i$ se define a continuación.\n",
    "\n",
    "$P_{n}(i) \\;=\\; \\frac{\\exp(U_{n,i})}{\\sum_{k}\\exp(U_{n,k})}$\n",
    "\n",
    "Para su implementación en *xlogit*, se requiere que los datos de entrada estén en *long format* con, al menos, las siguientes columnas.\n",
    "\n",
    "- ids: identifica al agente $n$.\n",
    "\n",
    "- alts: identifica la alternativa (es decir, el conjunto de celdas no escogidas).\n",
    "\n",
    "- chosen: 1 si la celda es la efectivamente elegida, 0 caso contrario.\n",
    "\n",
    "- variables explicativas: (p. ej., accesibilidad, precio, etc.)."
   ]
  },
  {
   "cell_type": "markdown",
   "metadata": {},
   "source": [
    "#### Preparación de la Base de Datos *Choice*\n",
    "\n",
    "En el siguiente ejemplo, consideraremos un conjunto de variables explicativas. Para cada agente, marcaremos su celda real escogida con chosen=1. Luego muestreamos un subconjunto de celdas como “no elegidas”, que se deberá determinar siguiendo un muestreo de alternativas (profundizaremos sobre ello en el Laboratorio 6)."
   ]
  },
  {
   "cell_type": "code",
   "execution_count": 3,
   "metadata": {},
   "outputs": [
    {
     "data": {
      "text/html": [
       "<div>\n",
       "<style scoped>\n",
       "    .dataframe tbody tr th:only-of-type {\n",
       "        vertical-align: middle;\n",
       "    }\n",
       "\n",
       "    .dataframe tbody tr th {\n",
       "        vertical-align: top;\n",
       "    }\n",
       "\n",
       "    .dataframe thead th {\n",
       "        text-align: right;\n",
       "    }\n",
       "</style>\n",
       "<table border=\"1\" class=\"dataframe\">\n",
       "  <thead>\n",
       "    <tr style=\"text-align: right;\">\n",
       "      <th></th>\n",
       "      <th>id_agente</th>\n",
       "      <th>h3</th>\n",
       "      <th>acc_auto_m2_comercio</th>\n",
       "      <th>acc_auto_m2_departamento</th>\n",
       "      <th>acc_auto_n_deporte_y_recreacion</th>\n",
       "      <th>acc_auto_n_educacion_y_cultura</th>\n",
       "      <th>acc_auto_m2_habitacional</th>\n",
       "      <th>acc_auto_m2_industria</th>\n",
       "      <th>acc_auto_m2_oficina</th>\n",
       "      <th>acc_auto_n_salud</th>\n",
       "      <th>chosen</th>\n",
       "    </tr>\n",
       "  </thead>\n",
       "  <tbody>\n",
       "    <tr>\n",
       "      <th>0</th>\n",
       "      <td>0</td>\n",
       "      <td>89ce85a099bffff</td>\n",
       "      <td>8.331040e-24</td>\n",
       "      <td>1.485871e-25</td>\n",
       "      <td>1.414359e-27</td>\n",
       "      <td>1.384718e-26</td>\n",
       "      <td>49.980827</td>\n",
       "      <td>4.093294e-24</td>\n",
       "      <td>1.381523e-24</td>\n",
       "      <td>4.011188e-28</td>\n",
       "      <td>0.0</td>\n",
       "    </tr>\n",
       "    <tr>\n",
       "      <th>1</th>\n",
       "      <td>0</td>\n",
       "      <td>89ce85a2917ffff</td>\n",
       "      <td>4.082277e-24</td>\n",
       "      <td>7.280888e-26</td>\n",
       "      <td>6.930475e-28</td>\n",
       "      <td>6.785233e-27</td>\n",
       "      <td>102.000000</td>\n",
       "      <td>2.005747e-24</td>\n",
       "      <td>6.769574e-25</td>\n",
       "      <td>1.965515e-28</td>\n",
       "      <td>0.0</td>\n",
       "    </tr>\n",
       "    <tr>\n",
       "      <th>2</th>\n",
       "      <td>0</td>\n",
       "      <td>89ce85a5d0bffff</td>\n",
       "      <td>1.330194e-06</td>\n",
       "      <td>3.843165e-08</td>\n",
       "      <td>3.054418e-12</td>\n",
       "      <td>1.692350e-08</td>\n",
       "      <td>90.063735</td>\n",
       "      <td>3.440712e-05</td>\n",
       "      <td>3.958601e-07</td>\n",
       "      <td>8.408440e-03</td>\n",
       "      <td>0.0</td>\n",
       "    </tr>\n",
       "    <tr>\n",
       "      <th>3</th>\n",
       "      <td>0</td>\n",
       "      <td>89ceaa8049bffff</td>\n",
       "      <td>4.560167e+02</td>\n",
       "      <td>1.537733e-01</td>\n",
       "      <td>2.228349e-04</td>\n",
       "      <td>6.923251e-02</td>\n",
       "      <td>1842.976679</td>\n",
       "      <td>9.845618e+02</td>\n",
       "      <td>2.046421e+02</td>\n",
       "      <td>2.869446e-04</td>\n",
       "      <td>0.0</td>\n",
       "    </tr>\n",
       "    <tr>\n",
       "      <th>4</th>\n",
       "      <td>0</td>\n",
       "      <td>89ceaa820b7ffff</td>\n",
       "      <td>9.317509e-02</td>\n",
       "      <td>3.141864e-05</td>\n",
       "      <td>2.265586e-04</td>\n",
       "      <td>1.428046e-05</td>\n",
       "      <td>126.118811</td>\n",
       "      <td>2.012358e-01</td>\n",
       "      <td>4.181280e-02</td>\n",
       "      <td>1.445588e-04</td>\n",
       "      <td>0.0</td>\n",
       "    </tr>\n",
       "  </tbody>\n",
       "</table>\n",
       "</div>"
      ],
      "text/plain": [
       "   id_agente               h3  acc_auto_m2_comercio  acc_auto_m2_departamento  \\\n",
       "0          0  89ce85a099bffff          8.331040e-24              1.485871e-25   \n",
       "1          0  89ce85a2917ffff          4.082277e-24              7.280888e-26   \n",
       "2          0  89ce85a5d0bffff          1.330194e-06              3.843165e-08   \n",
       "3          0  89ceaa8049bffff          4.560167e+02              1.537733e-01   \n",
       "4          0  89ceaa820b7ffff          9.317509e-02              3.141864e-05   \n",
       "\n",
       "   acc_auto_n_deporte_y_recreacion  acc_auto_n_educacion_y_cultura  \\\n",
       "0                     1.414359e-27                    1.384718e-26   \n",
       "1                     6.930475e-28                    6.785233e-27   \n",
       "2                     3.054418e-12                    1.692350e-08   \n",
       "3                     2.228349e-04                    6.923251e-02   \n",
       "4                     2.265586e-04                    1.428046e-05   \n",
       "\n",
       "   acc_auto_m2_habitacional  acc_auto_m2_industria  acc_auto_m2_oficina  \\\n",
       "0                 49.980827           4.093294e-24         1.381523e-24   \n",
       "1                102.000000           2.005747e-24         6.769574e-25   \n",
       "2                 90.063735           3.440712e-05         3.958601e-07   \n",
       "3               1842.976679           9.845618e+02         2.046421e+02   \n",
       "4                126.118811           2.012358e-01         4.181280e-02   \n",
       "\n",
       "   acc_auto_n_salud  chosen  \n",
       "0      4.011188e-28     0.0  \n",
       "1      1.965515e-28     0.0  \n",
       "2      8.408440e-03     0.0  \n",
       "3      2.869446e-04     0.0  \n",
       "4      1.445588e-04     0.0  "
      ]
     },
     "execution_count": 3,
     "metadata": {},
     "output_type": "execute_result"
    }
   ],
   "source": [
    "# definir variables explicativas\n",
    "variables_explicativas_choice = [\n",
    "    'acc_auto_m2_comercio', \n",
    "    'acc_auto_m2_departamento',\n",
    "    'acc_auto_n_deporte_y_recreacion', \n",
    "    'acc_auto_n_educacion_y_cultura',\n",
    "    'acc_auto_m2_habitacional', \n",
    "    'acc_auto_m2_industria',\n",
    "    'acc_auto_m2_oficina', \n",
    "    'acc_auto_n_salud']\n",
    "\n",
    "# extraer DataFrame con las columnas de celdas que usaremos de explicativas\n",
    "df_celdas = celdas_estimacion[['h3'] + variables_explicativas_choice].copy()\n",
    "\n",
    "# crear DataFrame con la celda elegida\n",
    "df_elegida = agentes_estimacion[['id_agente', 'h3']].assign(chosen=1)\n",
    "df_elegida = df_elegida.merge(df_celdas, on='h3', how='left')\n",
    "\n",
    "# crear el conjunto de elección (producto cartesiano entre agentes y celdas)\n",
    "all_celdas = df_celdas.assign(key=1)\n",
    "all_agents = agentes_estimacion[['id_agente']].assign(key=1)\n",
    "bd_choice = all_agents.merge(all_celdas, on='key', how='left').drop('key', axis=1)\n",
    "\n",
    "# unir con la información real de la celda elegida\n",
    "bd_choice = bd_choice.merge(df_elegida[['id_agente', 'h3', 'chosen']], on=['id_agente', 'h3'], how='left')\n",
    "bd_choice['chosen'] = bd_choice['chosen'].fillna(0)\n",
    "\n",
    "# reemplazar valores nulos en las variables explicativas con 0\n",
    "bd_choice[variables_explicativas_choice] = bd_choice[variables_explicativas_choice].fillna(0)\n",
    "\n",
    "# ver DataFrame final\n",
    "bd_choice.head()"
   ]
  },
  {
   "cell_type": "markdown",
   "metadata": {},
   "source": [
    "#### Estimación del Modelo *Choice*\n",
    "\n",
    "A continuación, proporcionaremos todos los argumentos requeridos al método .fit y ajustar así correctamente nuestro modelo *choice* en `xlogit`. Cabe señalar que el modelo Choice estimado en este laboratorio es representativo, considerando que se requiere incorporar un **modelo hedónico de precios a partir de una Regresión Lineal Múltiple** usando `statsmodels` u otras librerías similares."
   ]
  },
  {
   "cell_type": "code",
   "execution_count": 4,
   "metadata": {},
   "outputs": [
    {
     "name": "stdout",
     "output_type": "stream",
     "text": [
      "Optimization terminated successfully.\n",
      "    Message: The gradients are close to zero\n",
      "    Iterations: 12\n",
      "    Function evaluations: 13\n",
      "Estimation time= 25.1 seconds\n",
      "---------------------------------------------------------------------------\n",
      "Coefficient              Estimate      Std.Err.         z-val         P>|z|\n",
      "---------------------------------------------------------------------------\n",
      "acc_auto_m2_comerci    -0.0000716     0.0000022   -33.2729513     7.23e-233 ***\n",
      "acc_auto_m2_departa    -0.0000429     0.0000063    -6.7858051      1.21e-11 ***\n",
      "acc_auto_n_deporte_    -0.1521959     0.0101487   -14.9965456      2.08e-50 ***\n",
      "acc_auto_n_educacio     0.0553482     0.0025667    21.5635505     2.52e-101 ***\n",
      "acc_auto_m2_habitac     0.0000107     0.0000004    27.3558081     3.66e-160 ***\n",
      "acc_auto_m2_industr     0.0000081     0.0000013     5.9799191      2.29e-09 ***\n",
      "acc_auto_m2_oficina    -0.0000807     0.0000079   -10.2434077      1.58e-24 ***\n",
      "acc_auto_n_salud        0.0935268     0.0109883     8.5115148      1.91e-17 ***\n",
      "---------------------------------------------------------------------------\n",
      "Significance:  0 '***' 0.001 '**' 0.01 '*' 0.05 '.' 0.1 ' ' 1\n",
      "\n",
      "Log-Likelihood= -83359.689\n",
      "AIC= 166735.377\n",
      "BIC= 166795.009\n"
     ]
    }
   ],
   "source": [
    "from xlogit import MultinomialLogit\n",
    "import pickle\n",
    "\n",
    "# ajustar el modelo con xlogit\n",
    "choice_model = MultinomialLogit()\n",
    "choice_model.fit(\n",
    "    X=bd_choice[variables_explicativas_choice],\n",
    "    y=bd_choice['chosen'],\n",
    "    varnames=variables_explicativas_choice,\n",
    "    ids=bd_choice['id_agente'],\n",
    "    alts=bd_choice['h3'])\n",
    "\n",
    "# guardar el modelo en .pickle\n",
    "with open(\"choice.pickle\", \"wb\") as file:\n",
    "    pickle.dump(choice_model, file)\n",
    "\n",
    "# mostrar resumen del modelo\n",
    "choice_model.summary()"
   ]
  },
  {
   "cell_type": "markdown",
   "metadata": {},
   "source": [
    "---"
   ]
  },
  {
   "cell_type": "markdown",
   "metadata": {},
   "source": [
    "### 5. Modelo Bid (con *`biogeme`*)\n",
    "\n",
    "El modelo Bid asume que la localización es “ganada” por una categoría / uso de suelo. A modo representativo, en este laboratorio consideraremos que sólo los agentes habitacionales \"pujan\" por una localización, por lo cual definiremos las categorías $c \\in \\{1,2,3\\}$ en función de la calidad de la construcción. Con ello, definimos la disposición a pagar (*willingness to pay*, WTP) de cada categoría  $c$  por una localización  $i$  de la siguiente manera.\n",
    "\n",
    "$WTP_{c,i} = \\beta_{c,0} + \\beta_{c,1} \\cdot X_{i,1} + \\beta_{c,2} \\cdot X_{i,2} + \\dots$\n",
    "\n",
    "En este caso,\n",
    "\n",
    "- $\\beta_{c,k}$  son los coeficientes a estimar para la categoría  $c$  y variable $k$.\n",
    "- $X_{i,k}$  son las variables explicativas de la localización  $i$.\n",
    "\n",
    "La probabilidad de que la categoría  $c$  gane la subasta por la localización  $i$  se define a continuación.\n",
    "\n",
    "$P_{i}(c) = \\frac{\\exp(WTP_{c,i})}{\\sum_{k} \\exp(WTP_{k,i})}$\n",
    "\n",
    "Para evitar colinealidad, fijamos el intercepto de una categoría (por ejemplo,  $c = 1$ ) a cero."
   ]
  },
  {
   "cell_type": "markdown",
   "metadata": {},
   "source": [
    "#### Preparación de la Base de Datos *Bid*\n",
    "\n",
    "En el siguiente ejemplo, consideraremos un conjunto de variables explicativas para preparar nuestro modelo Bid para `biogeme`."
   ]
  },
  {
   "cell_type": "code",
   "execution_count": 5,
   "metadata": {},
   "outputs": [],
   "source": [
    "import biogeme.database as db\n",
    "\n",
    "# seleccionar las columnas relevantes para el modelo bid\n",
    "variables_explicativas_bid = ['acc_auto_m2_comercio', 'acc_auto_n_educacion_y_cultura', 'acc_auto_m2_habitacional', 'acc_auto_m2_industria', 'acc_auto_n_salud']\n",
    "\n",
    "# preparar la base de datos para biogeme\n",
    "bd_bid = agentes_estimacion.merge(celdas_estimacion, on='h3', how='left', suffixes=('_ag','_cell'))\n",
    "\n",
    "# seleccionar solo las columnas necesarias\n",
    "bd_bid = bd_bid[['id_agente', 'superficie_construida', 'id_celda', 'cat_hogar'] + variables_explicativas_bid]\n",
    "\n",
    "# definir la base de datos para biogeme\n",
    "database = db.Database('Bid', bd_bid)\n",
    "globals().update(database.variables)"
   ]
  },
  {
   "cell_type": "markdown",
   "metadata": {},
   "source": [
    "#### Estimación del Modelo *Bid*\n",
    "\n",
    "A continuación, proporcionaremos todos los argumentos requeridos al método .estimate y ajustar así correctamente nuestro modelo *bid* en `biogeme`. Nuevamente, es importante recordar que el modelo Bid estimado en este laboratorio es representativo, considerando que **se requiere estudiar diferentes especificaciones que combinen accesibilidades en diferentes modos de transporte**, de acuerdo a lo revisado en el Laboratorio 3. "
   ]
  },
  {
   "cell_type": "code",
   "execution_count": 6,
   "metadata": {},
   "outputs": [],
   "source": [
    "from biogeme import models\n",
    "from biogeme.expressions import Beta\n",
    "import biogeme.biogeme as bio\n",
    "\n",
    "# definir las variables y categorías\n",
    "xh = ['utilidad']\n",
    "zi = variables_explicativas_bid\n",
    "total_vars = xh+zi\n",
    "categorias = 3\n",
    "\n",
    "# definir los parámetros a estimar\n",
    "betas = {}\n",
    "for c in range(1, categorias + 1):\n",
    "    for v in total_vars:\n",
    "        if c == 1:\n",
    "            fixed = 1\n",
    "        else:\n",
    "            fixed = 0\n",
    "        aux_beta = Beta(f'B_{v}_H{c}', 0, -100, 100, fixed)\n",
    "        betas.update({f'B_{v}_H{c}': aux_beta})\n",
    "\n",
    "# definir la disposición a pagar de cada categoría\n",
    "V = {}\n",
    "av = {}\n",
    "for c in range(1, categorias + 1):\n",
    "    DP_aux = 0\n",
    "    for v in xh:\n",
    "        DP_aux += betas[f'B_{v}_H{c}']\n",
    "    for v in zi:\n",
    "        DP_aux += betas[f'B_{v}_H{c}']*database.variables[v]\n",
    "    V.update({c: DP_aux})\n",
    "    av.update({c: 1})\n",
    "\n",
    "# definir la log-verosimilitud\n",
    "logprob = models.loglogit(V, av, cat_hogar)\n",
    "\n",
    "# (opcional) definir el peso de cada observación\n",
    "bio.WEIGHT = superficie_construida\n",
    "\n",
    "# crear el objeto biogeme y estimar el modelo\n",
    "biogeme = bio.BIOGEME(database, logprob)\n",
    "biogeme.modelName = 'bid'\n",
    "bid_model = biogeme.estimate()\n",
    "\n",
    "# guardar el modelo en .pickle\n",
    "with open(\"bid.pickle\", \"wb\") as file:\n",
    "    pickle.dump(bid_model, file)"
   ]
  },
  {
   "cell_type": "markdown",
   "metadata": {},
   "source": [
    "Con esto completamos el Laboratorio 4 sobre estimación de modelos de localización basados en un enfoque *bid* y *choice* con las librerías `xlogit` y `Biogeme` de Python."
   ]
  },
  {
   "cell_type": "markdown",
   "metadata": {},
   "source": [
    "**Fin del Laboratorio 4**"
   ]
  },
  {
   "cell_type": "markdown",
   "metadata": {},
   "source": [
    "---"
   ]
  },
  {
   "cell_type": "markdown",
   "metadata": {},
   "source": [
    "En el próximo laboratorio, exploraremos cómo utilizar nuestros estimadores de los modelos de localización para simular nuevas localizaciones futuras."
   ]
  }
 ],
 "metadata": {
  "kernelspec": {
   "display_name": ".venv",
   "language": "python",
   "name": "python3"
  },
  "language_info": {
   "codemirror_mode": {
    "name": "ipython",
    "version": 3
   },
   "file_extension": ".py",
   "mimetype": "text/x-python",
   "name": "python",
   "nbconvert_exporter": "python",
   "pygments_lexer": "ipython3",
   "version": "3.9.6"
  }
 },
 "nbformat": 4,
 "nbformat_minor": 2
}
